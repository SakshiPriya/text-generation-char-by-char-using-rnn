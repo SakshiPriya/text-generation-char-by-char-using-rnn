{
  "nbformat": 4,
  "nbformat_minor": 0,
  "metadata": {
    "colab": {
      "name": "charbychar.ipynb",
      "version": "0.3.2",
      "provenance": [],
      "include_colab_link": true
    }
  },
  "cells": [
    {
      "cell_type": "markdown",
      "metadata": {
        "id": "view-in-github",
        "colab_type": "text"
      },
      "source": [
        "[View in Colaboratory](https://colab.research.google.com/github/SakshiPriya/text-generation-char-by-char-using-rnn/blob/master/charbychar.ipynb)"
      ]
    },
    {
      "metadata": {
        "id": "ogCuDKAbFZuC",
        "colab_type": "code",
        "colab": {}
      },
      "cell_type": "code",
      "source": [
        "import numpy as np\n",
        "\n",
        "from  nltk.corpus import gutenberg\n",
        "import unicodedata\n"
      ],
      "execution_count": 0,
      "outputs": []
    },
    {
      "metadata": {
        "id": "7vKD5L2gHdGE",
        "colab_type": "code",
        "colab": {
          "base_uri": "https://localhost:8080/",
          "height": 67
        },
        "outputId": "8f430bbe-734b-4b86-d499-001a8f9749cc"
      },
      "cell_type": "code",
      "source": [
        "nltk.download('gutenberg')"
      ],
      "execution_count": 51,
      "outputs": [
        {
          "output_type": "stream",
          "text": [
            "[nltk_data] Downloading package gutenberg to /content/nltk_data...\n",
            "[nltk_data]   Package gutenberg is already up-to-date!\n"
          ],
          "name": "stdout"
        },
        {
          "output_type": "execute_result",
          "data": {
            "text/plain": [
              "True"
            ]
          },
          "metadata": {
            "tags": []
          },
          "execution_count": 51
        }
      ]
    },
    {
      "metadata": {
        "id": "ZIyDX9usIPHi",
        "colab_type": "code",
        "colab": {}
      },
      "cell_type": "code",
      "source": [
        "data=gutenberg.raw('shakespeare-hamlet.txt')\n",
        "data=unicodedata.normalize('NFKD', data).encode('ascii','ignore')\n",
        "unique=list(set(data))\n",
        "datalen,vocabsize=len(data),len(unique)\n",
        "chartoint={b:a for a,b in enumerate(unique) }\n",
        "inttochar={a:b for a,b in enumerate(unique) }\n",
        "\n",
        "print(datalen)"
      ],
      "execution_count": 0,
      "outputs": []
    },
    {
      "metadata": {
        "id": "-knjsMv6LrJq",
        "colab_type": "code",
        "colab": {}
      },
      "cell_type": "code",
      "source": [
        "neuronno=1000\n",
        "lr=0.01\n",
        "timestamp=30\n"
      ],
      "execution_count": 0,
      "outputs": []
    },
    {
      "metadata": {
        "id": "o7u_95hILpf3",
        "colab_type": "code",
        "colab": {}
      },
      "cell_type": "code",
      "source": [
        "w1=2*np.random.random((vocabsize,neuronno))-1\n",
        "w2=2*np.random.random((neuronno,neuronno))-1\n",
        "w3=2*np.random.random((neuronno,vocabsize))-1\n",
        "b1=np.random.random((1,neuronno))\n",
        "b2=np.random.random((1,vocabsize))\n"
      ],
      "execution_count": 0,
      "outputs": []
    },
    {
      "metadata": {
        "id": "LqYBZZsyRA5K",
        "colab_type": "code",
        "colab": {}
      },
      "cell_type": "code",
      "source": [
        "def travelintimestamp(inputs,target,ainitial):\n",
        "  x,y,a,p={},{},{},{}\n",
        "  a[-1]=np.copy(ainitial)   #size(1,neuron)\n",
        "  loss=0\n",
        "  for i in range(len(inputs)):\n",
        "    x[i]=np.zeros((1,vocabsize))\n",
        "    x[i][0,inputs[i]]=1\n",
        "    a[i]=np.tanh(np.dot(x[i],w1)+np.dot(a[i-1],w2)+b1)\n",
        "    y[i]=np.dot(a[i],w3)+b2\n",
        "    p[i]=np.exp(y[i])/np.sum(np.exp(y[i]))\n",
        "    loss+=(-np.log(p[i][0,target[i]]))\n",
        "    \n",
        "  dw1,dw2,dw3=np.zeros_like(w1),np.zeros_like(w2),np.zeros_like(w3)\n",
        "  db1,db2=np.zeros_like(b1),np.zeros_like(b2)\n",
        "  daprev=np.zeros_like(a[0])\n",
        "       \n",
        "  for i in reversed(range(len(inputs))):\n",
        "      dy=np.copy(p[i])\n",
        "      dy[0,target[i]]-=1\n",
        "      dw3+=np.dot(a[i].T,dy)\n",
        "      db2+=dy\n",
        "      da=np.dot(dy,w3.T)+daprev\n",
        "      dat=np.dot(da,(1-np.dot(a[i].T,a[i])))\n",
        "      db1+=dat\n",
        "      dw1+=np.dot(x[i].T,dat)\n",
        "      dw2+=np.dot(a[i-1].T,dat)\n",
        "      daprev=np.dot(dat,w2)\n",
        "           \n",
        "  return loss,dw1,dw2,dw3,db1,db2,a[len(inputs)-1]\n",
        "  "
      ],
      "execution_count": 0,
      "outputs": []
    },
    {
      "metadata": {
        "id": "I-9I0c9RZunt",
        "colab_type": "code",
        "colab": {}
      },
      "cell_type": "code",
      "source": [
        "def sampleoftext(a,randno,length):\n",
        "  x=np.zeros((1,vocabsize))\n",
        "  x[0,randno]=1\n",
        "  result=[]\n",
        "  for  i in range(length):\n",
        "    a=np.tanh(np.dot(x,w1)+np.dot(a,w2)+b1)\n",
        "    y=np.dot(a,w3)+b2\n",
        "    p=np.exp(y)/np.sum(np.exp(y))\n",
        "    \n",
        "    no=np.random.choice(range(vocabsize),p=p.ravel())\n",
        "    x=np.zeros((1,vocabsize))\n",
        "    x[0,no]=1\n",
        "    result.append(no)\n",
        "  return result"
      ],
      "execution_count": 0,
      "outputs": []
    },
    {
      "metadata": {
        "id": "xVVFrJWa72U2",
        "colab_type": "code",
        "colab": {}
      },
      "cell_type": "code",
      "source": [
        "n,p=0,0\n",
        "sdw1=np.zeros_like(w1)\n",
        "sdw2=np.zeros_like(w2)\n",
        "sdw3=np.zeros_like(w3)\n",
        "sb1=np.zeros_like(b1)\n",
        "sb2=np.zeros_like(b2)\n",
        "weightedloss=0\n",
        "while True:\n",
        "  if p+timestamp>datalen or n==0:\n",
        "    ainitial=np.zeros((1,neuronno))\n",
        "    p=0\n",
        "  inputs= [chartoint[char] for char in data[p:p+timestamp]]\n",
        "  target= [chartoint[char] for char in data[p+1:p+timestamp+1]]\n",
        "  \n",
        "  loss,dw1,dw2,dw3,db1,db2,ainitial=travelintimestamp(inputs,target,ainitial)\n",
        "  weightedloss+=loss\n",
        "  if n%100==0:\n",
        "    print('loss',n,loss)\n",
        "    indexli=sampleoftext(ainitial,42,200)\n",
        "    print(''.join([inttochar[index] for index in indexli]))\n",
        "    print('--------------------------------------------------------------------------------------')\n",
        "    \n",
        "  for par, dpar,s in zip([w1, w2, w3, b1, b2], [dw1, dw2, dw3, db1, db2], [sdw1, sdw2, sdw3, sb1, sb2]):\n",
        "    s=dpar*dpar\n",
        "    par-=lr*(dpar/np.sqrt(s+1e-7))\n",
        "    \n",
        "  p+=timestamp\n",
        "  n+=1"
      ],
      "execution_count": 0,
      "outputs": []
    }
  ]
}